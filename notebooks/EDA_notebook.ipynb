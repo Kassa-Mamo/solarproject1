# Exploratory Data Analysis (EDA) on Solar Measurements Data

This notebook performs exploratory data analysis (EDA) on solar measurement data from different regions. The goal is to explore key characteristics of the dataset, identify any data quality issues, and visualize important trends.

The dataset includes solar measurements from various locations like Sierra Leone, Togo, and Benin, in both CSV and Excel formats.


import pandas as pd
import numpy as np
import matplotlib.pyplot as plt
import seaborn as sns

# Load the CSV data
df_sierra_bumbuna = pd.read_csv('data/solar-measurements_sierraleone-bumbuna_qc.csv')
df_sierra_kenema = pd.read_csv('data/solar-measurements_sierraleone-kenema_qc.csv')

# Load the Excel data (if necessary)
df_togo_dapaong = pd.read_excel('data/solar-measurements_togo-dapaong_header_fr_en.xlsx')


# Display the first few rows of the Sierra Leone Bumbuna dataset
df_sierra_bumbuna.head()

# Display the first few rows of the Sierra Leone Kenema dataset
df_sierra_kenema.head()


# Check the data types and missing values in the Sierra Leone Bumbuna dataset
df_sierra_bumbuna.info()

# Check the data types and missing values in the Sierra Leone Kenema dataset
df_sierra_kenema.info()


# Handling missing values: Option 1 - Drop rows with missing values
df_sierra_bumbuna.dropna(inplace=True)

# Option 2 - Fill missing values with a placeholder (e.g., 0 or the mean)
df_sierra_kenema.fillna(0, inplace=True)

# Convert columns to appropriate data types
df_sierra_bumbuna['timestamp'] = pd.to_datetime(df_sierra_bumbuna['timestamp'])


# Get descriptive statistics for the Sierra Leone Bumbuna dataset
df_sierra_bumbuna.describe()

# Get descriptive statistics for the Sierra Leone Kenema dataset
df_sierra_kenema.describe()


# Histogram of solar measurements for Sierra Leone Bumbuna
plt.figure(figsize=(10,6))
sns.histplot(df_sierra_bumbuna['solar_measurement'], kde=True)
plt.title('Distribution of Solar Measurements - Bumbuna')
plt.xlabel('Solar Measurement')
plt.ylabel('Frequency')
plt.show()

# Time series plot for solar measurements in Sierra Leone Kenema
plt.figure(figsize=(10,6))
plt.plot(df_sierra_kenema['timestamp'], df_sierra_kenema['solar_measurement'])
plt.title('Time Series of Solar Measurements - Kenema')
plt.xlabel('Time')
plt.ylabel('Solar Measurement')
plt.xticks(rotation=45)
plt.show()


# Calculate correlation between solar measurements and temperature
correlation = df_sierra_bumbuna[['solar_measurement', 'temperature']].corr()
print(correlation)



# Handling missing data (fill with mean)
data.fillna(data.mean(), inplace=True)

# Handling outliers (e.g., remove rows with extreme values)
data = data[data['solar_measurement'] < 1000]  # example threshold

# Creating a new feature: Day of the week
data['day_of_week'] = pd.to_datetime(data['timestamp']).dt.day_name()

from sklearn.model_selection import train_test_split
X = data.drop('target_variable', axis=1)  # All features except target
y = data['target_variable']  # Target variable (e.g., solar output)
X_train, X_test, y_train, y_test = train_test_split(X, y, test_size=0.2, random_state=42)


from sklearn.linear_model import LinearRegression
model = LinearRegression()
model.fit(X_train, y_train)  # Train the model

from sklearn.metrics import mean_squared_error, r2_score
y_pred = model.predict(X_test)
print("MSE:", mean_squared_error(y_test, y_pred))
print("R-squared:", r2_score(y_test, y_pred))

import matplotlib.pyplot as plt
import seaborn as sns

# Plotting a correlation matrix
sns.heatmap(data.corr(), annot=True, cmap='coolwarm')
plt.show()

# Plotting model prediction vs actual values
plt.scatter(y_test, y_pred)
plt.xlabel('Actual Values')
plt.ylabel('Predicted Values')
plt.show()


git add .
git commit -m "Complete analysis, model, and visualizations"
git push origin task-1  # or main if you switched to main

